{
 "cells": [
  {
   "cell_type": "code",
   "execution_count": 3,
   "id": "2edca9c3-6124-4507-9c78-0de2ebb1202d",
   "metadata": {},
   "outputs": [],
   "source": [
    "import pandas as pd\n",
    "df = pd.read_csv(r\"C:\\Users\\91781\\Downloads\\games_dataset.csv\")"
   ]
  },
  {
   "cell_type": "code",
   "execution_count": 5,
   "id": "1d99394d-d61e-4d1e-8a67-b14859a6c20f",
   "metadata": {},
   "outputs": [
    {
     "data": {
      "text/html": [
       "<div>\n",
       "<style scoped>\n",
       "    .dataframe tbody tr th:only-of-type {\n",
       "        vertical-align: middle;\n",
       "    }\n",
       "\n",
       "    .dataframe tbody tr th {\n",
       "        vertical-align: top;\n",
       "    }\n",
       "\n",
       "    .dataframe thead th {\n",
       "        text-align: right;\n",
       "    }\n",
       "</style>\n",
       "<table border=\"1\" class=\"dataframe\">\n",
       "  <thead>\n",
       "    <tr style=\"text-align: right;\">\n",
       "      <th></th>\n",
       "      <th>Game Name</th>\n",
       "      <th>Genre</th>\n",
       "      <th>Platform</th>\n",
       "      <th>Release Year</th>\n",
       "      <th>User Rating</th>\n",
       "    </tr>\n",
       "  </thead>\n",
       "  <tbody>\n",
       "    <tr>\n",
       "      <th>0</th>\n",
       "      <td>Sekiro: Shadows Die Twice</td>\n",
       "      <td>Sports</td>\n",
       "      <td>Nintendo Switch</td>\n",
       "      <td>2014</td>\n",
       "      <td>9.654719</td>\n",
       "    </tr>\n",
       "    <tr>\n",
       "      <th>1</th>\n",
       "      <td>Control</td>\n",
       "      <td>Puzzle</td>\n",
       "      <td>Nintendo Switch</td>\n",
       "      <td>2000</td>\n",
       "      <td>3.457386</td>\n",
       "    </tr>\n",
       "    <tr>\n",
       "      <th>2</th>\n",
       "      <td>Among Us</td>\n",
       "      <td>Strategy</td>\n",
       "      <td>Nintendo Switch</td>\n",
       "      <td>2007</td>\n",
       "      <td>5.367622</td>\n",
       "    </tr>\n",
       "    <tr>\n",
       "      <th>3</th>\n",
       "      <td>Call of Duty: Modern Warfare</td>\n",
       "      <td>Stealth</td>\n",
       "      <td>PlayStation</td>\n",
       "      <td>2005</td>\n",
       "      <td>1.240325</td>\n",
       "    </tr>\n",
       "    <tr>\n",
       "      <th>4</th>\n",
       "      <td>League of Legends</td>\n",
       "      <td>Simulation</td>\n",
       "      <td>PC</td>\n",
       "      <td>2021</td>\n",
       "      <td>3.535476</td>\n",
       "    </tr>\n",
       "  </tbody>\n",
       "</table>\n",
       "</div>"
      ],
      "text/plain": [
       "                      Game Name       Genre         Platform  Release Year  \\\n",
       "0     Sekiro: Shadows Die Twice      Sports  Nintendo Switch          2014   \n",
       "1                       Control      Puzzle  Nintendo Switch          2000   \n",
       "2                      Among Us    Strategy  Nintendo Switch          2007   \n",
       "3  Call of Duty: Modern Warfare     Stealth      PlayStation          2005   \n",
       "4             League of Legends  Simulation               PC          2021   \n",
       "\n",
       "   User Rating  \n",
       "0     9.654719  \n",
       "1     3.457386  \n",
       "2     5.367622  \n",
       "3     1.240325  \n",
       "4     3.535476  "
      ]
     },
     "execution_count": 5,
     "metadata": {},
     "output_type": "execute_result"
    }
   ],
   "source": [
    "df.head()"
   ]
  },
  {
   "cell_type": "code",
   "execution_count": 7,
   "id": "105189e7-69b3-468a-9b16-b03d85fa2efb",
   "metadata": {},
   "outputs": [
    {
     "data": {
      "text/plain": [
       "Game Name       0\n",
       "Genre           0\n",
       "Platform        0\n",
       "Release Year    0\n",
       "User Rating     0\n",
       "dtype: int64"
      ]
     },
     "execution_count": 7,
     "metadata": {},
     "output_type": "execute_result"
    }
   ],
   "source": [
    "df.isnull().sum()"
   ]
  },
  {
   "cell_type": "code",
   "execution_count": 9,
   "id": "768fc7d1-80cb-4933-93a0-d0d0f7b41f67",
   "metadata": {},
   "outputs": [
    {
     "data": {
      "text/html": [
       "<div>\n",
       "<style scoped>\n",
       "    .dataframe tbody tr th:only-of-type {\n",
       "        vertical-align: middle;\n",
       "    }\n",
       "\n",
       "    .dataframe tbody tr th {\n",
       "        vertical-align: top;\n",
       "    }\n",
       "\n",
       "    .dataframe thead th {\n",
       "        text-align: right;\n",
       "    }\n",
       "</style>\n",
       "<table border=\"1\" class=\"dataframe\">\n",
       "  <thead>\n",
       "    <tr style=\"text-align: right;\">\n",
       "      <th></th>\n",
       "      <th>Game Name</th>\n",
       "      <th>Genre</th>\n",
       "      <th>Platform</th>\n",
       "      <th>Release Year</th>\n",
       "      <th>User Rating</th>\n",
       "    </tr>\n",
       "  </thead>\n",
       "  <tbody>\n",
       "    <tr>\n",
       "      <th>0</th>\n",
       "      <td>Sekiro: Shadows Die Twice</td>\n",
       "      <td>Sports</td>\n",
       "      <td>Nintendo Switch</td>\n",
       "      <td>2014</td>\n",
       "      <td>9.654719</td>\n",
       "    </tr>\n",
       "    <tr>\n",
       "      <th>1</th>\n",
       "      <td>Control</td>\n",
       "      <td>Puzzle</td>\n",
       "      <td>Nintendo Switch</td>\n",
       "      <td>2000</td>\n",
       "      <td>3.457386</td>\n",
       "    </tr>\n",
       "    <tr>\n",
       "      <th>2</th>\n",
       "      <td>Among Us</td>\n",
       "      <td>Strategy</td>\n",
       "      <td>Nintendo Switch</td>\n",
       "      <td>2007</td>\n",
       "      <td>5.367622</td>\n",
       "    </tr>\n",
       "    <tr>\n",
       "      <th>3</th>\n",
       "      <td>Call of Duty: Modern Warfare</td>\n",
       "      <td>Stealth</td>\n",
       "      <td>PlayStation</td>\n",
       "      <td>2005</td>\n",
       "      <td>1.240325</td>\n",
       "    </tr>\n",
       "    <tr>\n",
       "      <th>4</th>\n",
       "      <td>League of Legends</td>\n",
       "      <td>Simulation</td>\n",
       "      <td>PC</td>\n",
       "      <td>2021</td>\n",
       "      <td>3.535476</td>\n",
       "    </tr>\n",
       "    <tr>\n",
       "      <th>5</th>\n",
       "      <td>Counter-Strike: Global Offensive</td>\n",
       "      <td>Puzzle</td>\n",
       "      <td>PlayStation</td>\n",
       "      <td>2023</td>\n",
       "      <td>1.112864</td>\n",
       "    </tr>\n",
       "    <tr>\n",
       "      <th>6</th>\n",
       "      <td>Red Dead Redemption 2</td>\n",
       "      <td>Shooter</td>\n",
       "      <td>Xbox</td>\n",
       "      <td>2011</td>\n",
       "      <td>8.353946</td>\n",
       "    </tr>\n",
       "    <tr>\n",
       "      <th>7</th>\n",
       "      <td>Halo Infinite</td>\n",
       "      <td>Adventure</td>\n",
       "      <td>PC</td>\n",
       "      <td>2014</td>\n",
       "      <td>7.167983</td>\n",
       "    </tr>\n",
       "    <tr>\n",
       "      <th>8</th>\n",
       "      <td>The Legend of Zelda: Breath of the Wild</td>\n",
       "      <td>Horror</td>\n",
       "      <td>Nintendo Switch</td>\n",
       "      <td>2004</td>\n",
       "      <td>8.608596</td>\n",
       "    </tr>\n",
       "    <tr>\n",
       "      <th>9</th>\n",
       "      <td>Valorant</td>\n",
       "      <td>Adventure</td>\n",
       "      <td>Mobile</td>\n",
       "      <td>2010</td>\n",
       "      <td>1.336979</td>\n",
       "    </tr>\n",
       "    <tr>\n",
       "      <th>10</th>\n",
       "      <td>Super Mario Odyssey</td>\n",
       "      <td>Racing</td>\n",
       "      <td>PC</td>\n",
       "      <td>2010</td>\n",
       "      <td>2.904496</td>\n",
       "    </tr>\n",
       "    <tr>\n",
       "      <th>11</th>\n",
       "      <td>Among Us</td>\n",
       "      <td>Racing</td>\n",
       "      <td>Xbox</td>\n",
       "      <td>2014</td>\n",
       "      <td>1.174626</td>\n",
       "    </tr>\n",
       "    <tr>\n",
       "      <th>12</th>\n",
       "      <td>Apex Legends</td>\n",
       "      <td>Role-playing</td>\n",
       "      <td>Xbox</td>\n",
       "      <td>2009</td>\n",
       "      <td>2.560023</td>\n",
       "    </tr>\n",
       "    <tr>\n",
       "      <th>13</th>\n",
       "      <td>Grand Theft Auto IV</td>\n",
       "      <td>Strategy</td>\n",
       "      <td>PlayStation</td>\n",
       "      <td>2022</td>\n",
       "      <td>6.310097</td>\n",
       "    </tr>\n",
       "    <tr>\n",
       "      <th>14</th>\n",
       "      <td>Overwatch</td>\n",
       "      <td>Stealth</td>\n",
       "      <td>PlayStation</td>\n",
       "      <td>2023</td>\n",
       "      <td>1.066099</td>\n",
       "    </tr>\n",
       "    <tr>\n",
       "      <th>15</th>\n",
       "      <td>FIFA 21</td>\n",
       "      <td>Racing</td>\n",
       "      <td>Xbox</td>\n",
       "      <td>2013</td>\n",
       "      <td>7.065340</td>\n",
       "    </tr>\n",
       "    <tr>\n",
       "      <th>16</th>\n",
       "      <td>Tetris</td>\n",
       "      <td>Action</td>\n",
       "      <td>PC</td>\n",
       "      <td>2002</td>\n",
       "      <td>8.478912</td>\n",
       "    </tr>\n",
       "    <tr>\n",
       "      <th>17</th>\n",
       "      <td>God of War</td>\n",
       "      <td>Survival</td>\n",
       "      <td>PlayStation</td>\n",
       "      <td>2008</td>\n",
       "      <td>4.019129</td>\n",
       "    </tr>\n",
       "    <tr>\n",
       "      <th>18</th>\n",
       "      <td>Sekiro: Shadows Die Twice</td>\n",
       "      <td>Survival</td>\n",
       "      <td>Xbox</td>\n",
       "      <td>2008</td>\n",
       "      <td>6.134219</td>\n",
       "    </tr>\n",
       "    <tr>\n",
       "      <th>19</th>\n",
       "      <td>Genshin Impact</td>\n",
       "      <td>Sports</td>\n",
       "      <td>PlayStation</td>\n",
       "      <td>2006</td>\n",
       "      <td>7.310511</td>\n",
       "    </tr>\n",
       "  </tbody>\n",
       "</table>\n",
       "</div>"
      ],
      "text/plain": [
       "                                  Game Name         Genre         Platform  \\\n",
       "0                 Sekiro: Shadows Die Twice        Sports  Nintendo Switch   \n",
       "1                                   Control        Puzzle  Nintendo Switch   \n",
       "2                                  Among Us      Strategy  Nintendo Switch   \n",
       "3              Call of Duty: Modern Warfare       Stealth      PlayStation   \n",
       "4                         League of Legends    Simulation               PC   \n",
       "5          Counter-Strike: Global Offensive        Puzzle      PlayStation   \n",
       "6                     Red Dead Redemption 2       Shooter             Xbox   \n",
       "7                             Halo Infinite     Adventure               PC   \n",
       "8   The Legend of Zelda: Breath of the Wild        Horror  Nintendo Switch   \n",
       "9                                  Valorant     Adventure           Mobile   \n",
       "10                      Super Mario Odyssey        Racing               PC   \n",
       "11                                 Among Us        Racing             Xbox   \n",
       "12                             Apex Legends  Role-playing             Xbox   \n",
       "13                      Grand Theft Auto IV      Strategy      PlayStation   \n",
       "14                                Overwatch       Stealth      PlayStation   \n",
       "15                                  FIFA 21        Racing             Xbox   \n",
       "16                                   Tetris        Action               PC   \n",
       "17                               God of War      Survival      PlayStation   \n",
       "18                Sekiro: Shadows Die Twice      Survival             Xbox   \n",
       "19                           Genshin Impact        Sports      PlayStation   \n",
       "\n",
       "    Release Year  User Rating  \n",
       "0           2014     9.654719  \n",
       "1           2000     3.457386  \n",
       "2           2007     5.367622  \n",
       "3           2005     1.240325  \n",
       "4           2021     3.535476  \n",
       "5           2023     1.112864  \n",
       "6           2011     8.353946  \n",
       "7           2014     7.167983  \n",
       "8           2004     8.608596  \n",
       "9           2010     1.336979  \n",
       "10          2010     2.904496  \n",
       "11          2014     1.174626  \n",
       "12          2009     2.560023  \n",
       "13          2022     6.310097  \n",
       "14          2023     1.066099  \n",
       "15          2013     7.065340  \n",
       "16          2002     8.478912  \n",
       "17          2008     4.019129  \n",
       "18          2008     6.134219  \n",
       "19          2006     7.310511  "
      ]
     },
     "execution_count": 9,
     "metadata": {},
     "output_type": "execute_result"
    }
   ],
   "source": [
    "df.head(20)"
   ]
  },
  {
   "cell_type": "code",
   "execution_count": 11,
   "id": "61750820-37de-4568-a710-ede00f021801",
   "metadata": {},
   "outputs": [
    {
     "name": "stdout",
     "output_type": "stream",
     "text": [
      "                      Game Name       Genre         Platform  Release Year  \\\n",
      "0     Sekiro: Shadows Die Twice      Sports  Nintendo Switch          2014   \n",
      "1                       Control      Puzzle  Nintendo Switch          2000   \n",
      "2                      Among Us    Strategy  Nintendo Switch          2007   \n",
      "3  Call of Duty: Modern Warfare     Stealth      PlayStation          2005   \n",
      "4             League of Legends  Simulation               PC          2021   \n",
      "\n",
      "   User Rating  \n",
      "0     9.654719  \n",
      "1     3.457386  \n",
      "2     5.367622  \n",
      "3     1.240325  \n",
      "4     3.535476  \n",
      "Game Name       0\n",
      "Genre           0\n",
      "Platform        0\n",
      "Release Year    0\n",
      "User Rating     0\n",
      "dtype: int64\n"
     ]
    }
   ],
   "source": [
    "df.dropna(inplace = True,axis=0)\n",
    "print(df.head())\n",
    "print(df.isnull().sum())"
   ]
  },
  {
   "cell_type": "code",
   "execution_count": 13,
   "id": "b771debd-e19e-4900-9fb6-a793f50f932d",
   "metadata": {},
   "outputs": [
    {
     "name": "stdout",
     "output_type": "stream",
     "text": [
      "5.524913320102779\n"
     ]
    }
   ],
   "source": [
    "mean_value = df ['User Rating'].mean()\n",
    "print(mean_value)"
   ]
  },
  {
   "cell_type": "code",
   "execution_count": 15,
   "id": "d5ddbd40-2098-4a42-a7b1-eca10165203e",
   "metadata": {},
   "outputs": [
    {
     "name": "stdout",
     "output_type": "stream",
     "text": [
      "5.574233456489701\n"
     ]
    }
   ],
   "source": [
    "median_value = df['User Rating'].median()\n",
    "print(median_value)"
   ]
  },
  {
   "cell_type": "code",
   "execution_count": 25,
   "id": "0a6cc7cd-8cc7-4d1b-921e-f849af9ea994",
   "metadata": {},
   "outputs": [
    {
     "name": "stdout",
     "output_type": "stream",
     "text": [
      "                      Game Name       Genre         Platform  User Rating  \\\n",
      "0     Sekiro: Shadows Die Twice      Sports  Nintendo Switch         2014   \n",
      "1                       Control      Puzzle  Nintendo Switch         2000   \n",
      "2                      Among Us    Strategy  Nintendo Switch         2007   \n",
      "3  Call of Duty: Modern Warfare     Stealth      PlayStation         2005   \n",
      "4             League of Legends  Simulation               PC         2021   \n",
      "\n",
      "   User Rating  \n",
      "0     9.654719  \n",
      "1     3.457386  \n",
      "2     5.367622  \n",
      "3     1.240325  \n",
      "4     3.535476  \n"
     ]
    }
   ],
   "source": [
    "df.rename(columns={'Release Year':'User Rating'},inplace=True)\n",
    "print(df.head())"
   ]
  },
  {
   "cell_type": "code",
   "execution_count": 27,
   "id": "0f1edf87-d997-4b27-a3bc-8275410a3f27",
   "metadata": {},
   "outputs": [
    {
     "data": {
      "text/html": [
       "<div>\n",
       "<style scoped>\n",
       "    .dataframe tbody tr th:only-of-type {\n",
       "        vertical-align: middle;\n",
       "    }\n",
       "\n",
       "    .dataframe tbody tr th {\n",
       "        vertical-align: top;\n",
       "    }\n",
       "\n",
       "    .dataframe thead th {\n",
       "        text-align: right;\n",
       "    }\n",
       "</style>\n",
       "<table border=\"1\" class=\"dataframe\">\n",
       "  <thead>\n",
       "    <tr style=\"text-align: right;\">\n",
       "      <th></th>\n",
       "      <th>Game Name</th>\n",
       "      <th>Genre</th>\n",
       "      <th>Platform</th>\n",
       "      <th>User Rating</th>\n",
       "      <th>User Rating</th>\n",
       "    </tr>\n",
       "  </thead>\n",
       "  <tbody>\n",
       "    <tr>\n",
       "      <th>0</th>\n",
       "      <td>The Legend of Zelda: Breath of the Wild</td>\n",
       "      <td>Sports</td>\n",
       "      <td>PC</td>\n",
       "      <td>2011.0</td>\n",
       "      <td>1.005878</td>\n",
       "    </tr>\n",
       "    <tr>\n",
       "      <th>1</th>\n",
       "      <td>NaN</td>\n",
       "      <td>NaN</td>\n",
       "      <td>NaN</td>\n",
       "      <td>NaN</td>\n",
       "      <td>1.006431</td>\n",
       "    </tr>\n",
       "    <tr>\n",
       "      <th>2</th>\n",
       "      <td>NaN</td>\n",
       "      <td>NaN</td>\n",
       "      <td>NaN</td>\n",
       "      <td>NaN</td>\n",
       "      <td>1.008029</td>\n",
       "    </tr>\n",
       "    <tr>\n",
       "      <th>3</th>\n",
       "      <td>NaN</td>\n",
       "      <td>NaN</td>\n",
       "      <td>NaN</td>\n",
       "      <td>NaN</td>\n",
       "      <td>1.008136</td>\n",
       "    </tr>\n",
       "    <tr>\n",
       "      <th>4</th>\n",
       "      <td>NaN</td>\n",
       "      <td>NaN</td>\n",
       "      <td>NaN</td>\n",
       "      <td>NaN</td>\n",
       "      <td>1.009102</td>\n",
       "    </tr>\n",
       "    <tr>\n",
       "      <th>...</th>\n",
       "      <td>...</td>\n",
       "      <td>...</td>\n",
       "      <td>...</td>\n",
       "      <td>...</td>\n",
       "      <td>...</td>\n",
       "    </tr>\n",
       "    <tr>\n",
       "      <th>4995</th>\n",
       "      <td>NaN</td>\n",
       "      <td>NaN</td>\n",
       "      <td>NaN</td>\n",
       "      <td>NaN</td>\n",
       "      <td>9.988145</td>\n",
       "    </tr>\n",
       "    <tr>\n",
       "      <th>4996</th>\n",
       "      <td>NaN</td>\n",
       "      <td>NaN</td>\n",
       "      <td>NaN</td>\n",
       "      <td>NaN</td>\n",
       "      <td>9.988694</td>\n",
       "    </tr>\n",
       "    <tr>\n",
       "      <th>4997</th>\n",
       "      <td>NaN</td>\n",
       "      <td>NaN</td>\n",
       "      <td>NaN</td>\n",
       "      <td>NaN</td>\n",
       "      <td>9.993194</td>\n",
       "    </tr>\n",
       "    <tr>\n",
       "      <th>4998</th>\n",
       "      <td>NaN</td>\n",
       "      <td>NaN</td>\n",
       "      <td>NaN</td>\n",
       "      <td>NaN</td>\n",
       "      <td>9.994527</td>\n",
       "    </tr>\n",
       "    <tr>\n",
       "      <th>4999</th>\n",
       "      <td>NaN</td>\n",
       "      <td>NaN</td>\n",
       "      <td>NaN</td>\n",
       "      <td>NaN</td>\n",
       "      <td>9.996196</td>\n",
       "    </tr>\n",
       "  </tbody>\n",
       "</table>\n",
       "<p>5000 rows × 5 columns</p>\n",
       "</div>"
      ],
      "text/plain": [
       "                                    Game Name   Genre Platform  User Rating  \\\n",
       "0     The Legend of Zelda: Breath of the Wild  Sports       PC       2011.0   \n",
       "1                                         NaN     NaN      NaN          NaN   \n",
       "2                                         NaN     NaN      NaN          NaN   \n",
       "3                                         NaN     NaN      NaN          NaN   \n",
       "4                                         NaN     NaN      NaN          NaN   \n",
       "...                                       ...     ...      ...          ...   \n",
       "4995                                      NaN     NaN      NaN          NaN   \n",
       "4996                                      NaN     NaN      NaN          NaN   \n",
       "4997                                      NaN     NaN      NaN          NaN   \n",
       "4998                                      NaN     NaN      NaN          NaN   \n",
       "4999                                      NaN     NaN      NaN          NaN   \n",
       "\n",
       "      User Rating  \n",
       "0        1.005878  \n",
       "1        1.006431  \n",
       "2        1.008029  \n",
       "3        1.008136  \n",
       "4        1.009102  \n",
       "...           ...  \n",
       "4995     9.988145  \n",
       "4996     9.988694  \n",
       "4997     9.993194  \n",
       "4998     9.994527  \n",
       "4999     9.996196  \n",
       "\n",
       "[5000 rows x 5 columns]"
      ]
     },
     "execution_count": 27,
     "metadata": {},
     "output_type": "execute_result"
    }
   ],
   "source": [
    "df.mode()"
   ]
  },
  {
   "cell_type": "code",
   "execution_count": 31,
   "id": "8b5fecd6-39ac-4254-b2ad-a1bdbe8a1519",
   "metadata": {},
   "outputs": [
    {
     "data": {
      "text/plain": [
       "Genre\n",
       "Sports          403\n",
       "Puzzle          384\n",
       "Racing          369\n",
       "Simulation      368\n",
       "Stealth         360\n",
       "Role-playing    360\n",
       "Horror          356\n",
       "Strategy        353\n",
       "Survival        353\n",
       "Adventure       342\n",
       "Action          340\n",
       "Platformer      338\n",
       "Shooter         337\n",
       "Fighting        337\n",
       "Name: count, dtype: int64"
      ]
     },
     "execution_count": 31,
     "metadata": {},
     "output_type": "execute_result"
    }
   ],
   "source": [
    "df['Genre'].value_counts()"
   ]
  },
  {
   "cell_type": "code",
   "execution_count": 35,
   "id": "99565bd2-2c39-441d-bf7f-056f1069fe8b",
   "metadata": {},
   "outputs": [
    {
     "data": {
      "image/png": "[encoded data removed]",
      "text/plain": [
       "<Figure size 640x480 with 1 Axes>"
      ]
     },
     "metadata": {},
     "output_type": "display_data"
    }
   ],
   "source": [
    "import matplotlib.pyplot as plt\n",
    "x = [1,2,3,4,5,6,7,8,9,10]\n",
    "y = [1,2,3,4,5,6,7,8,9,10]\n",
    "plt.plot(x,y)\n",
    "plt.show()"
   ]
  },
  {
   "cell_type": "code",
   "execution_count": 45,
   "id": "077242d4-b5e4-4b76-adc5-77beb1687e18",
   "metadata": {},
   "outputs": [
    {
     "data": {
      "image/png": "[encoded data removed]",
      "text/plain": [
       "<Figure size 640x480 with 1 Axes>"
      ]
     },
     "metadata": {},
     "output_type": "display_data"
    }
   ],
   "source": [
    "import matplotlib.pyplot as plt\n",
    "x= [2,4,8,9,10,12,14,16,18,20]\n",
    "y= [1,2,3,4,5,6,7,8,9,10]\n",
    "plt.bar(x,y)\n",
    "plt.show()"
   ]
  },
  {
   "cell_type": "code",
   "execution_count": 49,
   "id": "7faa0d73-1876-486e-b20d-22cf9d9fd6f7",
   "metadata": {},
   "outputs": [
    {
     "data": {
      "image/png": "[encoded data removed]",
      "text/plain": [
       "<Figure size 640x480 with 1 Axes>"
      ]
     },
     "metadata": {},
     "output_type": "display_data"
    }
   ],
   "source": [
    "import matplotlib.pyplot as plt\n",
    "y = [1,2,3,4,5,6,7,8]\n",
    "plt.hist(y)\n",
    "plt.show()"
   ]
  },
  {
   "cell_type": "code",
   "execution_count": 51,
   "id": "eeadf4da-51ff-40aa-bb76-2b4343081f62",
   "metadata": {},
   "outputs": [
    {
     "data": {
      "image/png": "[encoded data removed]",
      "text/plain": [
       "<Figure size 640x480 with 1 Axes>"
      ]
     },
     "metadata": {},
     "output_type": "display_data"
    }
   ],
   "source": [
    "import matplotlib.pyplot as plt\n",
    "x = [1,2,3,4,5,6,7,8]\n",
    "y = [1,2,3,4,5,6,7,8]\n",
    "plt.scatter(x,y)\n",
    "plt.show()"
   ]
  },
  {
   "cell_type": "code",
   "execution_count": 59,
   "id": "b731ddf4-a573-4d5a-a6cd-13a00d4d7161",
   "metadata": {},
   "outputs": [
    {
     "data": {
      "image/png": "[encoded data removed]",
      "text/plain": [
       "<Figure size 640x480 with 1 Axes>"
      ]
     },
     "metadata": {},
     "output_type": "display_data"
    }
   ],
   "source": [
    "import matplotlib.pyplot as plt\n",
    "labels ={'kuchipudi','oddisi','kathak'}\n",
    "sizes = [10,20,70]\n",
    "plt.pie(sizes,labels=labels)\n",
    "plt.title('Dances')\n",
    "plt.show()"
   ]
  },
  {
   "cell_type": "code",
   "execution_count": 75,
   "id": "ce1eb7bb-7b8f-47e3-a376-e0cf313e1d37",
   "metadata": {},
   "outputs": [
    {
     "data": {
      "image/png": "[encoded data removed]",
      "text/plain": [
       "<Figure size 640x480 with 1 Axes>"
      ]
     },
     "metadata": {},
     "output_type": "display_data"
    }
   ],
   "source": [
    "import matplotlib.pyplot as plt\n",
    "x = [1,2,3,4,5,6,7,8]\n",
    "y1 = [2,4,6,8,10,12,14,16]\n",
    "y2 = [5,10,15,20,2,28,32,35]\n",
    "plt.fill_between(x, y1, y2, color='black', alpha=0.4 , label='Area 1-2')\n",
    "plt.plot(x, y1, label='Line 1', marker='o') \n",
    "plt.plot(x, y2, label='Line 2', marker='o')\n",
    "plt.xlabel('X-axis')\n",
    "plt.ylabel('Y-axis')\n",
    "plt.title('area chart')\n",
    "plt.legend()\n",
    "plt.show()\n",
    "     "
   ]
  },
  {
   "cell_type": "code",
   "execution_count": 115,
   "id": "6eceef52-49cc-4140-b539-ea3f8cfa2294",
   "metadata": {},
   "outputs": [
    {
     "ename": "SyntaxError",
     "evalue": "invalid syntax (438917653.py, line 14)",
     "output_type": "error",
     "traceback": [
      "\u001b[1;36m  Cell \u001b[1;32mIn[115], line 14\u001b[1;36m\u001b[0m\n\u001b[1;33m    ax in axs.flat:\u001b[0m\n\u001b[1;37m                  ^\u001b[0m\n\u001b[1;31mSyntaxError\u001b[0m\u001b[1;31m:\u001b[0m invalid syntax\n"
     ]
    }
   ],
   "source": [
    "import matplotlib.pyplot as plt\n",
    "import numpy as np\n",
    "x = np.linspace(0, 2 * np.pi, 400)\n",
    "y = np.sin(x ** 2)\n",
    "fig, axs = plt.subplots(2, 2) \n",
    "axs[0, 0].plot(x, y)\n",
    "axs[0, 0].set_title('bhavana')\n",
    "axs[0, 1].plot(x, -y, 'tab:red')\n",
    "axs[0, 1].set_title('khyathi')\n",
    "axs[1, 0].plot(x, y**2, 'tab:blue')\n",
    "axs[1, 0].set_title('kavya')\n",
    "axs[1, 1].plot(x, -y**2, 'tab:green')\n",
    "axs[1, 1].set_title('barrey')\n",
    "ax in axs.flat:\n",
    "    ax.set(xlabel='x-maths', ylabel='y-pyshics')\n",
    "fig.tight_layout()\n",
    "plt.show()\n"
   ]
  },
  {
   "cell_type": "code",
   "execution_count": 97,
   "id": "6181efab-5ef4-4321-af41-849a0ff3fd9d",
   "metadata": {},
   "outputs": [
    {
     "data": {
      "image/png": "[encoded data removed]",
      "text/plain": [
       "<Figure size 400x600 with 1 Axes>"
      ]
     },
     "metadata": {},
     "output_type": "display_data"
    }
   ],
   "source": [
    "import matplotlib.pyplot as plt\n",
    "fig = plt.figure(figsize=(4,6), facecolor='green', constrained_layout=True)\n",
    "fig.suptitle('Bhavana')\n",
    "ax1 = fig.add_subplot()\n",
    "ax1.set_title('axes',loc='right', fontstyle='oblique', fontsize ='medium')\n",
    "plt.show()"
   ]
  },
  {
   "cell_type": "code",
   "execution_count": 111,
   "id": "fbc1577a-8ac9-4679-99cd-26c7a44d0032",
   "metadata": {},
   "outputs": [
    {
     "data": {
      "image/png": "[encoded data removed]",
      "text/plain": [
       "<Figure size 640x480 with 2 Axes>"
      ]
     },
     "metadata": {},
     "output_type": "display_data"
    }
   ],
   "source": [
    "fig = plt.figure()\n",
    "ax1 = fig.add_subplot(711)\n",
    "ax1.plot([4,5,6,])\n",
    "ax2 = fig.add_subplot(211, facecolor='y')\n",
    "ax2.plot([4,5,6,])\n",
    "plt.show()"
   ]
  },
  {
   "cell_type": "code",
   "execution_count": null,
   "id": "c49b8261-3c83-43d2-af48-837b733adbd3",
   "metadata": {},
   "outputs": [],
   "source": []
  }
 ],
 "metadata": {
  "kernelspec": {
   "display_name": "Python 3 (ipykernel)",
   "language": "python",
   "name": "python3"
  },
  "language_info": {
   "codemirror_mode": {
    "name": "ipython",
    "version": 3
   },
   "file_extension": ".py",
   "mimetype": "text/x-python",
   "name": "python",
   "nbconvert_exporter": "python",
   "pygments_lexer": "ipython3",
   "version": "3.12.4"
  }
 },
 "nbformat": 4,
 "nbformat_minor": 5
}
